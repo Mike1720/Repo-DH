{
 "cells": [
  {
   "cell_type": "code",
   "execution_count": 1,
   "metadata": {},
   "outputs": [],
   "source": [
    "import numpy as np"
   ]
  },
  {
   "cell_type": "code",
   "execution_count": 4,
   "metadata": {},
   "outputs": [
    {
     "data": {
      "text/plain": [
       "array([0, 1, 2, 3, 4, 5, 6, 7, 8, 9])"
      ]
     },
     "execution_count": 4,
     "metadata": {},
     "output_type": "execute_result"
    }
   ],
   "source": [
    "#                      numero de elementos\n",
    "one_dimension_arr = np.arange(10)\n",
    "# rango de elementos del 0 al 9\n",
    "one_dimension_arr"
   ]
  },
  {
   "cell_type": "code",
   "execution_count": 7,
   "metadata": {},
   "outputs": [
    {
     "data": {
      "text/plain": [
       "array([0, 2, 4, 6, 8])"
      ]
     },
     "execution_count": 7,
     "metadata": {},
     "output_type": "execute_result"
    }
   ],
   "source": [
    "# Trae todos los elementos con un salto de 2\n",
    "one_dimension_arr[::2]"
   ]
  },
  {
   "cell_type": "code",
   "execution_count": 10,
   "metadata": {},
   "outputs": [
    {
     "data": {
      "text/plain": [
       "array([3, 4])"
      ]
     },
     "execution_count": 10,
     "metadata": {},
     "output_type": "execute_result"
    }
   ],
   "source": [
    "# Trae los elementos desde la posición 3 hasta la posición 5, sin tomar esta ultima en cuenta ([i:j-1])\n",
    "one_dimension_arr[3:5]"
   ]
  },
  {
   "cell_type": "code",
   "execution_count": 12,
   "metadata": {},
   "outputs": [
    {
     "data": {
      "text/plain": [
       "array([0, 2, 4, 6])"
      ]
     },
     "execution_count": 12,
     "metadata": {},
     "output_type": "execute_result"
    }
   ],
   "source": [
    "# Trae los elementos desde el inicion del arreglo, hasta la posición 8, sin tomar esta ultima en cuenta, en saltos de 2\n",
    "one_dimension_arr[:8:2]"
   ]
  },
  {
   "cell_type": "code",
   "execution_count": 14,
   "metadata": {},
   "outputs": [
    {
     "data": {
      "text/plain": [
       "array([1, 4, 7])"
      ]
     },
     "execution_count": 14,
     "metadata": {},
     "output_type": "execute_result"
    }
   ],
   "source": [
    "# Trae los elementos desde la posición 1 hasta el final del array, en saltos de 3 (i+3)\n",
    "one_dimension_arr[1::3]"
   ]
  },
  {
   "cell_type": "code",
   "execution_count": 17,
   "metadata": {},
   "outputs": [
    {
     "data": {
      "text/plain": [
       "array([7, 6, 5, 4, 3, 2, 1, 0])"
      ]
     },
     "execution_count": 17,
     "metadata": {},
     "output_type": "execute_result"
    }
   ],
   "source": [
    "# Trae los elementos desde la posición 7 hasta el inicio del array (pasos en -1)\n",
    "one_dimension_arr[7::-1]"
   ]
  },
  {
   "cell_type": "code",
   "execution_count": 19,
   "metadata": {},
   "outputs": [
    {
     "data": {
      "text/plain": [
       "array([5, 6, 7])"
      ]
     },
     "execution_count": 19,
     "metadata": {},
     "output_type": "execute_result"
    }
   ],
   "source": [
    "lista_indices = [5, 6, 7]\n",
    "one_dimension_arr[lista_indices]"
   ]
  },
  {
   "cell_type": "code",
   "execution_count": 21,
   "metadata": {},
   "outputs": [],
   "source": [
    "random_generator_seed = np.random.default_rng(234444)"
   ]
  },
  {
   "cell_type": "code",
   "execution_count": 25,
   "metadata": {},
   "outputs": [
    {
     "data": {
      "text/plain": [
       "array([[7.70576691, 5.3900531 , 1.26516957, 7.58848631],\n",
       "       [7.61290526, 9.92326006, 9.1511299 , 0.10048282],\n",
       "       [3.64120972, 6.95888084, 1.38819387, 0.64277152]])"
      ]
     },
     "execution_count": 25,
     "metadata": {},
     "output_type": "execute_result"
    }
   ],
   "source": [
    "low = 0\n",
    "high = 10\n",
    "size = (3, 4)\n",
    "two_dimension_arr = random_generator_seed.uniform(low=low, high=high, size=size)\n",
    "two_dimension_arr"
   ]
  },
  {
   "cell_type": "code",
   "execution_count": 31,
   "metadata": {},
   "outputs": [
    {
     "data": {
      "text/plain": [
       "array([[7.61290526, 9.92326006, 9.1511299 , 0.10048282],\n",
       "       [3.64120972, 6.95888084, 1.38819387, 0.64277152]])"
      ]
     },
     "execution_count": 31,
     "metadata": {},
     "output_type": "execute_result"
    }
   ],
   "source": [
    "two_dimension_arr[1:, :]"
   ]
  },
  {
   "cell_type": "code",
   "execution_count": 32,
   "metadata": {},
   "outputs": [
    {
     "data": {
      "text/plain": [
       "array([[7.70576691, 5.3900531 , 1.26516957, 7.58848631],\n",
       "       [3.64120972, 6.95888084, 1.38819387, 0.64277152],\n",
       "       [7.61290526, 9.92326006, 9.1511299 , 0.10048282],\n",
       "       [7.70576691, 5.3900531 , 1.26516957, 7.58848631]])"
      ]
     },
     "execution_count": 32,
     "metadata": {},
     "output_type": "execute_result"
    }
   ],
   "source": [
    "# Devuelve las filas del arreglo en base a los indices ingresados\n",
    "index_list = [0, 2, 1, 0]\n",
    "two_dimension_arr[index_list]"
   ]
  },
  {
   "cell_type": "code",
   "execution_count": 33,
   "metadata": {},
   "outputs": [
    {
     "data": {
      "text/plain": [
       "array([[ True,  True, False,  True],\n",
       "       [ True,  True,  True, False],\n",
       "       [False,  True, False, False]])"
      ]
     },
     "execution_count": 33,
     "metadata": {},
     "output_type": "execute_result"
    }
   ],
   "source": [
    "# Compara los elementos del arreglo, y devuelve el arreglo con una respuesta booleana por cada comparación\n",
    "mask_great_5 = two_dimension_arr > 5\n",
    "mask_great_5"
   ]
  },
  {
   "cell_type": "code",
   "execution_count": 34,
   "metadata": {},
   "outputs": [
    {
     "data": {
      "text/plain": [
       "array([7.70576691, 5.3900531 , 7.58848631, 7.61290526, 9.92326006,\n",
       "       9.1511299 , 6.95888084])"
      ]
     },
     "execution_count": 34,
     "metadata": {},
     "output_type": "execute_result"
    }
   ],
   "source": [
    "# Trae solo los elementos que cumplan la condición dada\n",
    "two_dimension_arr[mask_great_5]\n"
   ]
  }
 ],
 "metadata": {
  "kernelspec": {
   "display_name": "Python 3",
   "language": "python",
   "name": "python3"
  },
  "language_info": {
   "codemirror_mode": {
    "name": "ipython",
    "version": 3
   },
   "file_extension": ".py",
   "mimetype": "text/x-python",
   "name": "python",
   "nbconvert_exporter": "python",
   "pygments_lexer": "ipython3",
   "version": "3.13.2"
  }
 },
 "nbformat": 4,
 "nbformat_minor": 2
}
